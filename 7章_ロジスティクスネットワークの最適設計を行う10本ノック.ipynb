{
  "cells": [
    {
      "cell_type": "markdown",
      "metadata": {
        "id": "view-in-github",
        "colab_type": "text"
      },
      "source": [
        "<a href=\"https://colab.research.google.com/github/konan0802/100knock-data-analytics/blob/main/7%E7%AB%A0_%E3%83%AD%E3%82%B7%E3%82%99%E3%82%B9%E3%83%86%E3%82%A3%E3%82%AF%E3%82%B9%E3%83%8D%E3%83%83%E3%83%88%E3%83%AF%E3%83%BC%E3%82%AF%E3%81%AE%E6%9C%80%E9%81%A9%E8%A8%AD%E8%A8%88%E3%82%92%E8%A1%8C%E3%81%8610%E6%9C%AC%E3%83%8E%E3%83%83%E3%82%AF.ipynb\" target=\"_parent\"><img src=\"https://colab.research.google.com/assets/colab-badge.svg\" alt=\"Open In Colab\"/></a>"
      ]
    },
    {
      "cell_type": "code",
      "source": [
        "# Google Driveと接続を行います。これを行うことで、Driveにあるデータにアクセスできるようになります。\n",
        "# 下記セルを実行すると、Googleアカウントのログインを求められますのでログインしてください。\n",
        "from google.colab import drive\n",
        "drive.mount('/content/drive')"
      ],
      "metadata": {
        "id": "uk5SZovzLfjX",
        "colab": {
          "base_uri": "https://localhost:8080/"
        },
        "outputId": "cbf0a610-19a8-45ed-f13f-5a4b19d08249"
      },
      "execution_count": null,
      "outputs": [
        {
          "output_type": "stream",
          "name": "stdout",
          "text": [
            "Mounted at /content/drive\n"
          ]
        }
      ]
    },
    {
      "cell_type": "code",
      "source": [
        "# 作業フォルダへの移動を行います。\n",
        "# 人によって作業場所がことなるので、その場合作業場所を変更してください。\n",
        "import os\n",
        "os.chdir('/content/drive/MyDrive/100knock-data_analytics/7章') #ここを変更。"
      ],
      "metadata": {
        "id": "wIZNjA_0LgfN"
      },
      "execution_count": null,
      "outputs": []
    },
    {
      "cell_type": "markdown",
      "metadata": {
        "id": "S0m3EV2sLevt"
      },
      "source": [
        "# 7章 ロジスティクスネットワークの最適設計を行う10本ノック\n",
        "\n",
        "ここでは、最適化計算を行ういくつかのライブラリを用いて、最適化計算を実際に行っていきます。  \n",
        "そして、前章で用いたネットワーク可視化などの技術を駆使し、計算結果の妥当性を確認する方法についても学んでいきます。"
      ]
    },
    {
      "cell_type": "markdown",
      "metadata": {
        "id": "DlzzpnaZLevu"
      },
      "source": [
        "### ノック６１：輸送最適化問題を解いてみよう"
      ]
    },
    {
      "cell_type": "code",
      "execution_count": null,
      "metadata": {
        "id": "gbSduWAsLevu",
        "colab": {
          "base_uri": "https://localhost:8080/"
        },
        "outputId": "5ac715eb-aead-4d10-a26d-2ad5ea2bbb4e"
      },
      "outputs": [
        {
          "output_type": "stream",
          "name": "stdout",
          "text": [
            "Collecting pulp\n",
            "  Downloading PuLP-2.9.0-py3-none-any.whl.metadata (5.4 kB)\n",
            "Downloading PuLP-2.9.0-py3-none-any.whl (17.7 MB)\n",
            "\u001b[2K   \u001b[90m━━━━━━━━━━━━━━━━━━━━━━━━━━━━━━━━━━━━━━━━\u001b[0m \u001b[32m17.7/17.7 MB\u001b[0m \u001b[31m39.6 MB/s\u001b[0m eta \u001b[36m0:00:00\u001b[0m\n",
            "\u001b[?25hInstalling collected packages: pulp\n",
            "Successfully installed pulp-2.9.0\n",
            "Collecting ortoolpy\n",
            "  Downloading ortoolpy-0.4.0-py3-none-any.whl.metadata (1.6 kB)\n",
            "Collecting more-itertools<9.0.0,>=8.13.0 (from ortoolpy)\n",
            "  Downloading more_itertools-8.14.0-py3-none-any.whl.metadata (30 kB)\n",
            "Collecting pandas<2.0.0,>=1.4.3 (from ortoolpy)\n",
            "  Downloading pandas-1.5.3-cp310-cp310-manylinux_2_17_x86_64.manylinux2014_x86_64.whl.metadata (11 kB)\n",
            "Requirement already satisfied: pulp<3.0.0,>=2.6.0 in /usr/local/lib/python3.10/dist-packages (from ortoolpy) (2.9.0)\n",
            "Requirement already satisfied: python-dateutil>=2.8.1 in /usr/local/lib/python3.10/dist-packages (from pandas<2.0.0,>=1.4.3->ortoolpy) (2.8.2)\n",
            "Requirement already satisfied: pytz>=2020.1 in /usr/local/lib/python3.10/dist-packages (from pandas<2.0.0,>=1.4.3->ortoolpy) (2024.2)\n",
            "Requirement already satisfied: numpy>=1.21.0 in /usr/local/lib/python3.10/dist-packages (from pandas<2.0.0,>=1.4.3->ortoolpy) (1.26.4)\n",
            "Requirement already satisfied: six>=1.5 in /usr/local/lib/python3.10/dist-packages (from python-dateutil>=2.8.1->pandas<2.0.0,>=1.4.3->ortoolpy) (1.16.0)\n",
            "Downloading ortoolpy-0.4.0-py3-none-any.whl (27 kB)\n",
            "Downloading more_itertools-8.14.0-py3-none-any.whl (52 kB)\n",
            "\u001b[2K   \u001b[90m━━━━━━━━━━━━━━━━━━━━━━━━━━━━━━━━━━━━━━━━\u001b[0m \u001b[32m52.2/52.2 kB\u001b[0m \u001b[31m1.9 MB/s\u001b[0m eta \u001b[36m0:00:00\u001b[0m\n",
            "\u001b[?25hDownloading pandas-1.5.3-cp310-cp310-manylinux_2_17_x86_64.manylinux2014_x86_64.whl (12.1 MB)\n",
            "\u001b[2K   \u001b[90m━━━━━━━━━━━━━━━━━━━━━━━━━━━━━━━━━━━━━━━━\u001b[0m \u001b[32m12.1/12.1 MB\u001b[0m \u001b[31m48.7 MB/s\u001b[0m eta \u001b[36m0:00:00\u001b[0m\n",
            "\u001b[?25hInstalling collected packages: more-itertools, pandas, ortoolpy\n",
            "  Attempting uninstall: more-itertools\n",
            "    Found existing installation: more-itertools 10.5.0\n",
            "    Uninstalling more-itertools-10.5.0:\n",
            "      Successfully uninstalled more-itertools-10.5.0\n",
            "  Attempting uninstall: pandas\n",
            "    Found existing installation: pandas 2.1.4\n",
            "    Uninstalling pandas-2.1.4:\n",
            "      Successfully uninstalled pandas-2.1.4\n",
            "\u001b[31mERROR: pip's dependency resolver does not currently take into account all the packages that are installed. This behaviour is the source of the following dependency conflicts.\n",
            "cudf-cu12 24.4.1 requires pandas<2.2.2dev0,>=2.0, but you have pandas 1.5.3 which is incompatible.\n",
            "google-colab 1.0.0 requires pandas==2.1.4, but you have pandas 1.5.3 which is incompatible.\n",
            "mizani 0.11.4 requires pandas>=2.1.0, but you have pandas 1.5.3 which is incompatible.\n",
            "plotnine 0.13.6 requires pandas<3.0.0,>=2.1.0, but you have pandas 1.5.3 which is incompatible.\n",
            "xarray 2024.9.0 requires pandas>=2.1, but you have pandas 1.5.3 which is incompatible.\u001b[0m\u001b[31m\n",
            "\u001b[0mSuccessfully installed more-itertools-8.14.0 ortoolpy-0.4.0 pandas-1.5.3\n",
            "    F1  F2  F3  F4\n",
            "工場                \n",
            "W1  28   7   0   0\n",
            "W2   0   0  31   5\n",
            "W3   0  22   0  20\n",
            "総輸送コスト: 1296.0\n"
          ]
        }
      ],
      "source": [
        "!pip install pulp\n",
        "!pip install ortoolpy\n",
        "\n",
        "import numpy as np\n",
        "import pandas as pd\n",
        "from itertools import product\n",
        "from pulp import LpVariable, lpSum, value\n",
        "from ortoolpy import model_min, addvars, addvals\n",
        "\n",
        "# データ読み込み\n",
        "df_tc = pd.read_csv('trans_cost.csv', index_col=\"工場\")\n",
        "df_demand = pd.read_csv('demand.csv')\n",
        "df_supply = pd.read_csv('supply.csv')\n",
        "\n",
        "# 初期設定\n",
        "np.random.seed(1)\n",
        "nw = len(df_tc.index)\n",
        "nf = len(df_tc.columns)\n",
        "pr = list(product(range(nw), range(nf)))\n",
        "\n",
        "# 数理モデル作成\n",
        "m1 = model_min()\n",
        "v1 = {(i, j): LpVariable('v%d_%d' % (i, j), lowBound=0) for i, j in pr}\n",
        "\n",
        "m1 += lpSum(df_tc.iloc[i][j] * v1[i, j] for i, j in pr)\n",
        "for i in range(nw):\n",
        "    m1 += lpSum(v1[i, j] for j in range(nf)) <= df_supply.iloc[0][i]\n",
        "for j in range(nf):\n",
        "    m1 += lpSum(v1[i, j] for i in range(nw)) >= df_demand.iloc[0][j]\n",
        "m1.solve()\n",
        "\n",
        "# 総輸送コスト計算\n",
        "df_tr_sol = df_tc.copy()\n",
        "total_cost = 0\n",
        "for k, x in v1.items():\n",
        "    i, j = k[0], k[1]\n",
        "    df_tr_sol.iloc[i][j] = value(x)\n",
        "    total_cost += df_tc.iloc[i][j] * value(x)\n",
        "\n",
        "print(df_tr_sol)\n",
        "print('総輸送コスト:', total_cost)"
      ]
    },
    {
      "cell_type": "markdown",
      "metadata": {
        "id": "7h6gYEX9Levv"
      },
      "source": [
        "### ノック６２：最適輸送ルートをネットワークで確認しよう"
      ]
    },
    {
      "cell_type": "code",
      "execution_count": null,
      "metadata": {
        "id": "q15oafrwLevv"
      },
      "outputs": [],
      "source": []
    },
    {
      "cell_type": "markdown",
      "metadata": {
        "id": "HW_M4YaoLevv"
      },
      "source": [
        "### ノック６３：最適輸送ルートが制約条件内に収まっているかどうかを確認しよう"
      ]
    },
    {
      "cell_type": "code",
      "execution_count": null,
      "metadata": {
        "id": "52IbGV40Levv"
      },
      "outputs": [],
      "source": []
    },
    {
      "cell_type": "markdown",
      "metadata": {
        "id": "m90MKWqfLevv"
      },
      "source": [
        "### ノック６４：生産計画に関するデータを読み込んでみよう"
      ]
    },
    {
      "cell_type": "code",
      "execution_count": null,
      "metadata": {
        "id": "NESXuqc0Levv"
      },
      "outputs": [],
      "source": []
    },
    {
      "cell_type": "markdown",
      "metadata": {
        "id": "tA58Po-JLevw"
      },
      "source": [
        "### ノック６５：利益を計算する関数を作ってみよう"
      ]
    },
    {
      "cell_type": "code",
      "execution_count": null,
      "metadata": {
        "id": "b-WbTaSvLevw"
      },
      "outputs": [],
      "source": []
    },
    {
      "cell_type": "markdown",
      "metadata": {
        "id": "SoKD6-0TLevw"
      },
      "source": [
        "### ノック６６：生産最適化問題を解いてみよう"
      ]
    },
    {
      "cell_type": "code",
      "execution_count": null,
      "metadata": {
        "id": "soewz566Levw"
      },
      "outputs": [],
      "source": []
    },
    {
      "cell_type": "markdown",
      "metadata": {
        "id": "mBHVC4wFLevw"
      },
      "source": [
        "### ノック６７：最適生産計画が制約条件内に収まっているかどうかを確認しよう"
      ]
    },
    {
      "cell_type": "code",
      "execution_count": null,
      "metadata": {
        "id": "g4N8fOmTLevw"
      },
      "outputs": [],
      "source": []
    },
    {
      "cell_type": "markdown",
      "metadata": {
        "id": "4Tt3n0_ILevw"
      },
      "source": [
        "### ノック６８：ロジスティクスネットワーク設計問題を解いてみよう"
      ]
    },
    {
      "cell_type": "code",
      "execution_count": null,
      "metadata": {
        "id": "9ZL6E4fJLevw"
      },
      "outputs": [],
      "source": []
    },
    {
      "cell_type": "markdown",
      "metadata": {
        "id": "rosRiCd1Levx"
      },
      "source": [
        "### ノック６９：最適ネットワークにおける輸送コストとその内訳を計算しよう"
      ]
    },
    {
      "cell_type": "code",
      "execution_count": null,
      "metadata": {
        "id": "dGLb0Sk2Levx"
      },
      "outputs": [],
      "source": []
    },
    {
      "cell_type": "markdown",
      "metadata": {
        "id": "QKL6ZJ13Levx"
      },
      "source": [
        "### ノック７０：最適ネットワークにおける生産コストとその内訳を計算しよう"
      ]
    },
    {
      "cell_type": "code",
      "execution_count": null,
      "metadata": {
        "id": "pms3fFC-Levx"
      },
      "outputs": [],
      "source": []
    }
  ],
  "metadata": {
    "kernelspec": {
      "display_name": "Python 3",
      "language": "python",
      "name": "python3"
    },
    "language_info": {
      "codemirror_mode": {
        "name": "ipython",
        "version": 3
      },
      "file_extension": ".py",
      "mimetype": "text/x-python",
      "name": "python",
      "nbconvert_exporter": "python",
      "pygments_lexer": "ipython3",
      "version": "3.6.4"
    },
    "colab": {
      "provenance": [],
      "include_colab_link": true
    }
  },
  "nbformat": 4,
  "nbformat_minor": 0
}